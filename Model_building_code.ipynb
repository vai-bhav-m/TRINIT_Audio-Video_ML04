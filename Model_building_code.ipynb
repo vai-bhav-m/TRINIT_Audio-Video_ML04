{
 "cells": [
  {
   "cell_type": "markdown",
   "metadata": {
    "id": "zdqniWep7xmz"
   },
   "source": [
    "### Data Preprocessing"
   ]
  },
  {
   "cell_type": "markdown",
   "metadata": {
    "id": "ZBO0rZwYB1t9"
   },
   "source": [
    "Reading the data"
   ]
  },
  {
   "cell_type": "code",
   "execution_count": null,
   "metadata": {
    "colab": {
     "base_uri": "https://localhost:8080/"
    },
    "id": "2i9A7yAa71HK",
    "outputId": "9ece255f-f845-432f-c2a8-d991b29b98c3"
   },
   "outputs": [
    {
     "name": "stdout",
     "output_type": "stream",
     "text": [
      "    timestamp    open      high      low   close    volume\n",
      "0  2022-01-28  133.19  134.5300  131.790  134.50   5471497\n",
      "1  2022-01-27  133.66  134.7500  132.080  132.52   5499566\n",
      "2  2022-01-26  136.47  137.0700  133.130  134.26   8335992\n",
      "3  2022-01-25  129.14  137.3361  128.300  136.10  19715698\n",
      "4  2022-01-24  127.99  129.1500  124.193  128.82  13777648\n"
     ]
    }
   ],
   "source": [
    "import pandas as pd\n",
    "ibm = pd.read_csv(\"daily_IBM.csv\")\n",
    "print(ibm.head())"
   ]
  },
  {
   "cell_type": "markdown",
   "metadata": {
    "id": "FgH_SFAxFWrX"
   },
   "source": [
    "Manipulating the Data"
   ]
  },
  {
   "cell_type": "code",
   "execution_count": null,
   "metadata": {
    "colab": {
     "base_uri": "https://localhost:8080/",
     "height": 423
    },
    "id": "rAOHcACX73qO",
    "outputId": "fe3cdd10-ce4b-41f7-e12f-c005f2d146b0"
   },
   "outputs": [
    {
     "data": {
      "text/html": [
       "\n",
       "  <div id=\"df-ad5a0376-9b03-4cc5-8df6-22bf9c1ac448\">\n",
       "    <div class=\"colab-df-container\">\n",
       "      <div>\n",
       "<style scoped>\n",
       "    .dataframe tbody tr th:only-of-type {\n",
       "        vertical-align: middle;\n",
       "    }\n",
       "\n",
       "    .dataframe tbody tr th {\n",
       "        vertical-align: top;\n",
       "    }\n",
       "\n",
       "    .dataframe thead th {\n",
       "        text-align: right;\n",
       "    }\n",
       "</style>\n",
       "<table border=\"1\" class=\"dataframe\">\n",
       "  <thead>\n",
       "    <tr style=\"text-align: right;\">\n",
       "      <th></th>\n",
       "      <th>timestamp</th>\n",
       "      <th>close</th>\n",
       "    </tr>\n",
       "  </thead>\n",
       "  <tbody>\n",
       "    <tr>\n",
       "      <th>0</th>\n",
       "      <td>2022-01-28</td>\n",
       "      <td>134.50</td>\n",
       "    </tr>\n",
       "    <tr>\n",
       "      <th>1</th>\n",
       "      <td>2022-01-27</td>\n",
       "      <td>132.52</td>\n",
       "    </tr>\n",
       "    <tr>\n",
       "      <th>2</th>\n",
       "      <td>2022-01-26</td>\n",
       "      <td>134.26</td>\n",
       "    </tr>\n",
       "    <tr>\n",
       "      <th>3</th>\n",
       "      <td>2022-01-25</td>\n",
       "      <td>136.10</td>\n",
       "    </tr>\n",
       "    <tr>\n",
       "      <th>4</th>\n",
       "      <td>2022-01-24</td>\n",
       "      <td>128.82</td>\n",
       "    </tr>\n",
       "    <tr>\n",
       "      <th>...</th>\n",
       "      <td>...</td>\n",
       "      <td>...</td>\n",
       "    </tr>\n",
       "    <tr>\n",
       "      <th>5593</th>\n",
       "      <td>1999-11-05</td>\n",
       "      <td>90.25</td>\n",
       "    </tr>\n",
       "    <tr>\n",
       "      <th>5594</th>\n",
       "      <td>1999-11-04</td>\n",
       "      <td>91.56</td>\n",
       "    </tr>\n",
       "    <tr>\n",
       "      <th>5595</th>\n",
       "      <td>1999-11-03</td>\n",
       "      <td>94.37</td>\n",
       "    </tr>\n",
       "    <tr>\n",
       "      <th>5596</th>\n",
       "      <td>1999-11-02</td>\n",
       "      <td>94.81</td>\n",
       "    </tr>\n",
       "    <tr>\n",
       "      <th>5597</th>\n",
       "      <td>1999-11-01</td>\n",
       "      <td>96.75</td>\n",
       "    </tr>\n",
       "  </tbody>\n",
       "</table>\n",
       "<p>5598 rows × 2 columns</p>\n",
       "</div>\n",
       "      <button class=\"colab-df-convert\" onclick=\"convertToInteractive('df-ad5a0376-9b03-4cc5-8df6-22bf9c1ac448')\"\n",
       "              title=\"Convert this dataframe to an interactive table.\"\n",
       "              style=\"display:none;\">\n",
       "        \n",
       "  <svg xmlns=\"http://www.w3.org/2000/svg\" height=\"24px\"viewBox=\"0 0 24 24\"\n",
       "       width=\"24px\">\n",
       "    <path d=\"M0 0h24v24H0V0z\" fill=\"none\"/>\n",
       "    <path d=\"M18.56 5.44l.94 2.06.94-2.06 2.06-.94-2.06-.94-.94-2.06-.94 2.06-2.06.94zm-11 1L8.5 8.5l.94-2.06 2.06-.94-2.06-.94L8.5 2.5l-.94 2.06-2.06.94zm10 10l.94 2.06.94-2.06 2.06-.94-2.06-.94-.94-2.06-.94 2.06-2.06.94z\"/><path d=\"M17.41 7.96l-1.37-1.37c-.4-.4-.92-.59-1.43-.59-.52 0-1.04.2-1.43.59L10.3 9.45l-7.72 7.72c-.78.78-.78 2.05 0 2.83L4 21.41c.39.39.9.59 1.41.59.51 0 1.02-.2 1.41-.59l7.78-7.78 2.81-2.81c.8-.78.8-2.07 0-2.86zM5.41 20L4 18.59l7.72-7.72 1.47 1.35L5.41 20z\"/>\n",
       "  </svg>\n",
       "      </button>\n",
       "      \n",
       "  <style>\n",
       "    .colab-df-container {\n",
       "      display:flex;\n",
       "      flex-wrap:wrap;\n",
       "      gap: 12px;\n",
       "    }\n",
       "\n",
       "    .colab-df-convert {\n",
       "      background-color: #E8F0FE;\n",
       "      border: none;\n",
       "      border-radius: 50%;\n",
       "      cursor: pointer;\n",
       "      display: none;\n",
       "      fill: #1967D2;\n",
       "      height: 32px;\n",
       "      padding: 0 0 0 0;\n",
       "      width: 32px;\n",
       "    }\n",
       "\n",
       "    .colab-df-convert:hover {\n",
       "      background-color: #E2EBFA;\n",
       "      box-shadow: 0px 1px 2px rgba(60, 64, 67, 0.3), 0px 1px 3px 1px rgba(60, 64, 67, 0.15);\n",
       "      fill: #174EA6;\n",
       "    }\n",
       "\n",
       "    [theme=dark] .colab-df-convert {\n",
       "      background-color: #3B4455;\n",
       "      fill: #D2E3FC;\n",
       "    }\n",
       "\n",
       "    [theme=dark] .colab-df-convert:hover {\n",
       "      background-color: #434B5C;\n",
       "      box-shadow: 0px 1px 3px 1px rgba(0, 0, 0, 0.15);\n",
       "      filter: drop-shadow(0px 1px 2px rgba(0, 0, 0, 0.3));\n",
       "      fill: #FFFFFF;\n",
       "    }\n",
       "  </style>\n",
       "\n",
       "      <script>\n",
       "        const buttonEl =\n",
       "          document.querySelector('#df-ad5a0376-9b03-4cc5-8df6-22bf9c1ac448 button.colab-df-convert');\n",
       "        buttonEl.style.display =\n",
       "          google.colab.kernel.accessAllowed ? 'block' : 'none';\n",
       "\n",
       "        async function convertToInteractive(key) {\n",
       "          const element = document.querySelector('#df-ad5a0376-9b03-4cc5-8df6-22bf9c1ac448');\n",
       "          const dataTable =\n",
       "            await google.colab.kernel.invokeFunction('convertToInteractive',\n",
       "                                                     [key], {});\n",
       "          if (!dataTable) return;\n",
       "\n",
       "          const docLinkHtml = 'Like what you see? Visit the ' +\n",
       "            '<a target=\"_blank\" href=https://colab.research.google.com/notebooks/data_table.ipynb>data table notebook</a>'\n",
       "            + ' to learn more about interactive tables.';\n",
       "          element.innerHTML = '';\n",
       "          dataTable['output_type'] = 'display_data';\n",
       "          await google.colab.output.renderOutput(dataTable, element);\n",
       "          const docLink = document.createElement('div');\n",
       "          docLink.innerHTML = docLinkHtml;\n",
       "          element.appendChild(docLink);\n",
       "        }\n",
       "      </script>\n",
       "    </div>\n",
       "  </div>\n",
       "  "
      ],
      "text/plain": [
       "       timestamp   close\n",
       "0     2022-01-28  134.50\n",
       "1     2022-01-27  132.52\n",
       "2     2022-01-26  134.26\n",
       "3     2022-01-25  136.10\n",
       "4     2022-01-24  128.82\n",
       "...          ...     ...\n",
       "5593  1999-11-05   90.25\n",
       "5594  1999-11-04   91.56\n",
       "5595  1999-11-03   94.37\n",
       "5596  1999-11-02   94.81\n",
       "5597  1999-11-01   96.75\n",
       "\n",
       "[5598 rows x 2 columns]"
      ]
     },
     "execution_count": 6,
     "metadata": {},
     "output_type": "execute_result"
    }
   ],
   "source": [
    "ibm.fillna(0,inplace=True)\n",
    "\n",
    "ibm.drop(['open','high','low','volume'],axis=1,inplace=True)\n",
    "\n",
    "ibm\n"
   ]
  },
  {
   "cell_type": "code",
   "execution_count": null,
   "metadata": {
    "colab": {
     "base_uri": "https://localhost:8080/",
     "height": 455
    },
    "id": "6-mtDZeN786t",
    "outputId": "016dc6c4-2e61-4422-fac2-1d28e907f29f"
   },
   "outputs": [
    {
     "data": {
      "text/html": [
       "\n",
       "  <div id=\"df-a985392a-bd27-4568-8444-bed41ce42b54\">\n",
       "    <div class=\"colab-df-container\">\n",
       "      <div>\n",
       "<style scoped>\n",
       "    .dataframe tbody tr th:only-of-type {\n",
       "        vertical-align: middle;\n",
       "    }\n",
       "\n",
       "    .dataframe tbody tr th {\n",
       "        vertical-align: top;\n",
       "    }\n",
       "\n",
       "    .dataframe thead th {\n",
       "        text-align: right;\n",
       "    }\n",
       "</style>\n",
       "<table border=\"1\" class=\"dataframe\">\n",
       "  <thead>\n",
       "    <tr style=\"text-align: right;\">\n",
       "      <th></th>\n",
       "      <th>close</th>\n",
       "    </tr>\n",
       "    <tr>\n",
       "      <th>timestamp</th>\n",
       "      <th></th>\n",
       "    </tr>\n",
       "  </thead>\n",
       "  <tbody>\n",
       "    <tr>\n",
       "      <th>2022-01-28</th>\n",
       "      <td>134.50</td>\n",
       "    </tr>\n",
       "    <tr>\n",
       "      <th>2022-01-27</th>\n",
       "      <td>132.52</td>\n",
       "    </tr>\n",
       "    <tr>\n",
       "      <th>2022-01-26</th>\n",
       "      <td>134.26</td>\n",
       "    </tr>\n",
       "    <tr>\n",
       "      <th>2022-01-25</th>\n",
       "      <td>136.10</td>\n",
       "    </tr>\n",
       "    <tr>\n",
       "      <th>2022-01-24</th>\n",
       "      <td>128.82</td>\n",
       "    </tr>\n",
       "    <tr>\n",
       "      <th>...</th>\n",
       "      <td>...</td>\n",
       "    </tr>\n",
       "    <tr>\n",
       "      <th>1999-11-05</th>\n",
       "      <td>90.25</td>\n",
       "    </tr>\n",
       "    <tr>\n",
       "      <th>1999-11-04</th>\n",
       "      <td>91.56</td>\n",
       "    </tr>\n",
       "    <tr>\n",
       "      <th>1999-11-03</th>\n",
       "      <td>94.37</td>\n",
       "    </tr>\n",
       "    <tr>\n",
       "      <th>1999-11-02</th>\n",
       "      <td>94.81</td>\n",
       "    </tr>\n",
       "    <tr>\n",
       "      <th>1999-11-01</th>\n",
       "      <td>96.75</td>\n",
       "    </tr>\n",
       "  </tbody>\n",
       "</table>\n",
       "<p>5598 rows × 1 columns</p>\n",
       "</div>\n",
       "      <button class=\"colab-df-convert\" onclick=\"convertToInteractive('df-a985392a-bd27-4568-8444-bed41ce42b54')\"\n",
       "              title=\"Convert this dataframe to an interactive table.\"\n",
       "              style=\"display:none;\">\n",
       "        \n",
       "  <svg xmlns=\"http://www.w3.org/2000/svg\" height=\"24px\"viewBox=\"0 0 24 24\"\n",
       "       width=\"24px\">\n",
       "    <path d=\"M0 0h24v24H0V0z\" fill=\"none\"/>\n",
       "    <path d=\"M18.56 5.44l.94 2.06.94-2.06 2.06-.94-2.06-.94-.94-2.06-.94 2.06-2.06.94zm-11 1L8.5 8.5l.94-2.06 2.06-.94-2.06-.94L8.5 2.5l-.94 2.06-2.06.94zm10 10l.94 2.06.94-2.06 2.06-.94-2.06-.94-.94-2.06-.94 2.06-2.06.94z\"/><path d=\"M17.41 7.96l-1.37-1.37c-.4-.4-.92-.59-1.43-.59-.52 0-1.04.2-1.43.59L10.3 9.45l-7.72 7.72c-.78.78-.78 2.05 0 2.83L4 21.41c.39.39.9.59 1.41.59.51 0 1.02-.2 1.41-.59l7.78-7.78 2.81-2.81c.8-.78.8-2.07 0-2.86zM5.41 20L4 18.59l7.72-7.72 1.47 1.35L5.41 20z\"/>\n",
       "  </svg>\n",
       "      </button>\n",
       "      \n",
       "  <style>\n",
       "    .colab-df-container {\n",
       "      display:flex;\n",
       "      flex-wrap:wrap;\n",
       "      gap: 12px;\n",
       "    }\n",
       "\n",
       "    .colab-df-convert {\n",
       "      background-color: #E8F0FE;\n",
       "      border: none;\n",
       "      border-radius: 50%;\n",
       "      cursor: pointer;\n",
       "      display: none;\n",
       "      fill: #1967D2;\n",
       "      height: 32px;\n",
       "      padding: 0 0 0 0;\n",
       "      width: 32px;\n",
       "    }\n",
       "\n",
       "    .colab-df-convert:hover {\n",
       "      background-color: #E2EBFA;\n",
       "      box-shadow: 0px 1px 2px rgba(60, 64, 67, 0.3), 0px 1px 3px 1px rgba(60, 64, 67, 0.15);\n",
       "      fill: #174EA6;\n",
       "    }\n",
       "\n",
       "    [theme=dark] .colab-df-convert {\n",
       "      background-color: #3B4455;\n",
       "      fill: #D2E3FC;\n",
       "    }\n",
       "\n",
       "    [theme=dark] .colab-df-convert:hover {\n",
       "      background-color: #434B5C;\n",
       "      box-shadow: 0px 1px 3px 1px rgba(0, 0, 0, 0.15);\n",
       "      filter: drop-shadow(0px 1px 2px rgba(0, 0, 0, 0.3));\n",
       "      fill: #FFFFFF;\n",
       "    }\n",
       "  </style>\n",
       "\n",
       "      <script>\n",
       "        const buttonEl =\n",
       "          document.querySelector('#df-a985392a-bd27-4568-8444-bed41ce42b54 button.colab-df-convert');\n",
       "        buttonEl.style.display =\n",
       "          google.colab.kernel.accessAllowed ? 'block' : 'none';\n",
       "\n",
       "        async function convertToInteractive(key) {\n",
       "          const element = document.querySelector('#df-a985392a-bd27-4568-8444-bed41ce42b54');\n",
       "          const dataTable =\n",
       "            await google.colab.kernel.invokeFunction('convertToInteractive',\n",
       "                                                     [key], {});\n",
       "          if (!dataTable) return;\n",
       "\n",
       "          const docLinkHtml = 'Like what you see? Visit the ' +\n",
       "            '<a target=\"_blank\" href=https://colab.research.google.com/notebooks/data_table.ipynb>data table notebook</a>'\n",
       "            + ' to learn more about interactive tables.';\n",
       "          element.innerHTML = '';\n",
       "          dataTable['output_type'] = 'display_data';\n",
       "          await google.colab.output.renderOutput(dataTable, element);\n",
       "          const docLink = document.createElement('div');\n",
       "          docLink.innerHTML = docLinkHtml;\n",
       "          element.appendChild(docLink);\n",
       "        }\n",
       "      </script>\n",
       "    </div>\n",
       "  </div>\n",
       "  "
      ],
      "text/plain": [
       "             close\n",
       "timestamp         \n",
       "2022-01-28  134.50\n",
       "2022-01-27  132.52\n",
       "2022-01-26  134.26\n",
       "2022-01-25  136.10\n",
       "2022-01-24  128.82\n",
       "...            ...\n",
       "1999-11-05   90.25\n",
       "1999-11-04   91.56\n",
       "1999-11-03   94.37\n",
       "1999-11-02   94.81\n",
       "1999-11-01   96.75\n",
       "\n",
       "[5598 rows x 1 columns]"
      ]
     },
     "execution_count": 7,
     "metadata": {},
     "output_type": "execute_result"
    }
   ],
   "source": [
    "ibm.index = pd.to_datetime(ibm['timestamp'], format='%Y-%m-%d')\n",
    "ibm_mod = ibm.drop(['timestamp'],axis=1,inplace=False)\n",
    "ibm_mod"
   ]
  },
  {
   "cell_type": "code",
   "execution_count": null,
   "metadata": {
    "id": "mvH_vjZ-8DUl"
   },
   "outputs": [],
   "source": []
  },
  {
   "cell_type": "markdown",
   "metadata": {
    "id": "8g2GjKzPsAaT"
   },
   "source": [
    "### Data Visualizing\n",
    "\n",
    "A few graphs below showcase what our data looks like"
   ]
  },
  {
   "cell_type": "code",
   "execution_count": null,
   "metadata": {
    "id": "TeLgb6kFsHNW"
   },
   "outputs": [],
   "source": [
    "#@title\n",
    "import matplotlib.pyplot as plt\n",
    "import matplotlib\n",
    "import seaborn as sns\n",
    "matplotlib.rcParams['font.size'] = 10\n",
    "matplotlib.rcParams['figure.figsize'] = (9, 5)"
   ]
  },
  {
   "cell_type": "code",
   "execution_count": null,
   "metadata": {
    "colab": {
     "base_uri": "https://localhost:8080/",
     "height": 366
    },
    "id": "A5w985JBsber",
    "outputId": "33648b91-639d-4e83-9e63-4753275c13b8"
   },
   "outputs": [
    {
     "data": {
      "text/plain": [
       "[<matplotlib.lines.Line2D at 0x7f963dfabdd0>]"
      ]
     },
     "execution_count": 9,
     "metadata": {},
     "output_type": "execute_result"
    },
    {
     "data": {
      "image/png": "[encoded data removed]",
      "text/plain": [
       "<Figure size 648x360 with 1 Axes>"
      ]
     },
     "metadata": {
      "needs_background": "light"
     },
     "output_type": "display_data"
    }
   ],
   "source": [
    "#@title\n",
    "plt.ylabel('IBM Close Price')\n",
    "plt.xlabel('Date')\n",
    "plt.xticks(rotation=45)\n",
    "\n",
    "plt.plot(ibm_mod.index, ibm_mod['close'], );"
   ]
  },
  {
   "cell_type": "code",
   "execution_count": null,
   "metadata": {
    "colab": {
     "base_uri": "https://localhost:8080/",
     "height": 366
    },
    "id": "V_AA-9zAuGrj",
    "outputId": "dea1a3cd-01bb-421d-de76-af115dc278d8"
   },
   "outputs": [
    {
     "data": {
      "text/plain": [
       "[<matplotlib.lines.Line2D at 0x7f963df01d50>]"
      ]
     },
     "execution_count": 10,
     "metadata": {},
     "output_type": "execute_result"
    },
    {
     "data": {
      "image/png": "[encoded data removed]",
      "text/plain": [
       "<Figure size 648x360 with 1 Axes>"
      ]
     },
     "metadata": {
      "needs_background": "light"
     },
     "output_type": "display_data"
    }
   ],
   "source": [
    "truncated = ibm_mod[ibm_mod.index > pd.to_datetime(\"2013-01-02\", format='%Y-%m-%d')]\n",
    "\n",
    "plt.ylabel('IBM Close Price')\n",
    "plt.xlabel('Date')\n",
    "plt.xticks(rotation=45)\n",
    "\n",
    "plt.plot(truncated.index, truncated['close'], )"
   ]
  },
  {
   "cell_type": "markdown",
   "metadata": {
    "id": "zXW_h0WSu3WJ"
   },
   "source": [
    "### Splitting DataSet in Training and Test sets"
   ]
  },
  {
   "cell_type": "code",
   "execution_count": null,
   "metadata": {
    "colab": {
     "base_uri": "https://localhost:8080/",
     "height": 382
    },
    "id": "hdyqVgrRu-rH",
    "outputId": "4b0240d7-c406-41ad-b1fb-510629b91dd2"
   },
   "outputs": [
    {
     "data": {
      "text/plain": [
       "<matplotlib.legend.Legend at 0x7f962ffc8c10>"
      ]
     },
     "execution_count": 20,
     "metadata": {},
     "output_type": "execute_result"
    },
    {
     "data": {
      "image/png": "[encoded data removed]",
      "text/plain": [
       "<Figure size 648x360 with 1 Axes>"
      ]
     },
     "metadata": {
      "needs_background": "light"
     },
     "output_type": "display_data"
    }
   ],
   "source": [
    "train = truncated[truncated.index < pd.to_datetime(\"2020-01-24\", format='%Y-%m-%d')]\n",
    "test = truncated[truncated.index > pd.to_datetime(\"2020-01-24\", format='%Y-%m-%d')]\n",
    "\n",
    "plt.plot(train, color = \"black\")\n",
    "plt.plot(test, color = \"red\")\n",
    "\n",
    "plt.ylabel('IBM Close Price')\n",
    "plt.xlabel('Date')\n",
    "plt.xticks(rotation=45)\n",
    "\n",
    "plt.title(\"Train/Test split for IBM Data\")\n",
    "plt.legend(['train data','test data'])"
   ]
  },
  {
   "cell_type": "code",
   "execution_count": null,
   "metadata": {
    "id": "x3La6sHi9Kp6"
   },
   "outputs": [],
   "source": []
  },
  {
   "cell_type": "markdown",
   "metadata": {
    "id": "4cfwbFKPvB-E"
   },
   "source": [
    "### Training the Model \n"
   ]
  },
  {
   "cell_type": "code",
   "execution_count": null,
   "metadata": {
    "id": "3DqwrfaCvKNv"
   },
   "outputs": [],
   "source": [
    "from statsmodels.tsa.statespace.sarimax import SARIMAX\n",
    "\n",
    "y = train['close']"
   ]
  },
  {
   "cell_type": "code",
   "execution_count": null,
   "metadata": {
    "id": "u8Km1J7j9hR3"
   },
   "outputs": [],
   "source": [
    "from statsmodels.tsa.arima_model import ARIMA"
   ]
  },
  {
   "cell_type": "code",
   "execution_count": null,
   "metadata": {
    "id": "19uhNgaP9jRk"
   },
   "outputs": [],
   "source": [
    "training_data = train['close'].values\n",
    "test_data = test['close'].values\n",
    "\n",
    "history = [x for x in training_data]\n",
    "model_predictions = []\n",
    "N_test_observations = len(test_data)\n",
    "\n",
    "for time_point in range(N_test_observations):\n",
    "    model = ARIMA(history, order=(4,1,0))\n",
    "    model_fit = model.fit(disp=0)\n",
    "    output = model_fit.forecast()\n",
    "    yhat = output[0]\n",
    "    model_predictions.append(yhat)\n",
    "    true_test_value = test_data[time_point]\n",
    "    history.append(true_test_value)"
   ]
  },
  {
   "cell_type": "markdown",
   "metadata": {
    "id": "waDdK_8WFnjL"
   },
   "source": [
    "Making predictions"
   ]
  },
  {
   "cell_type": "code",
   "execution_count": null,
   "metadata": {
    "colab": {
     "base_uri": "https://localhost:8080/"
    },
    "id": "44mz6915-HER",
    "outputId": "8d6d3d46-5642-4265-d617-baabfd857cdd"
   },
   "outputs": [
    {
     "name": "stdout",
     "output_type": "stream",
     "text": [
      "[array([195.27540765]), array([134.85300045]), array([134.40600084]), array([133.55147886]), array([137.9442154]), array([128.66946873]), array([129.6050535]), array([130.85083478]), array([131.37127538]), array([132.92683585]), array([134.19927401]), array([134.73316542]), array([133.58773508]), array([132.92276189]), array([135.07329226]), array([134.73231377]), array([135.32705764]), array([138.26224958]), array([137.92060542]), array([136.0399827]), array([133.76373213]), array([133.98158166]), array([133.29555135]), array([132.5882252]), array([131.63651283]), array([130.63835281]), array([129.75461277]), array([128.96494924]), array([127.04319673]), array([127.43584933]), array([125.88535445]), array([123.08505741]), array([123.84999409]), array([122.50945545]), array([124.06574135]), array([123.52365455]), array([122.99603521]), array([121.60887959]), array([119.92021168]), array([118.85994184]), array([116.87447632]), array([116.92951851]), array([117.06402351]), array([118.4496431]), array([115.73505502]), array([116.80641688]), array([116.77968703]), array([116.39310536]), array([116.062285]), array([116.6636654]), array([118.02991852]), array([118.39707238]), array([118.8599276]), array([118.96526686]), array([120.271958]), array([120.17646338]), array([120.8449906]), array([124.56437207]), array([123.4805367]), array([120.86232488]), array([127.32079715]), array([125.94273632]), array([126.25378495]), array([125.21946671]), array([125.84944711]), array([125.13526198]), array([127.1243319]), array([127.58897703]), array([127.84411906]), array([128.36119045]), array([141.96381754]), array([141.5724353]), array([142.35547033]), array([144.9529806]), array([143.32002975]), array([140.8011411]), array([140.59404376]), array([142.40836646]), array([143.10144776]), array([141.77925674]), array([142.45565124]), array([143.1497748]), array([144.05976217]), array([143.30307834]), array([138.95189736]), array([139.33656545]), array([137.41449619]), array([138.51296039]), array([137.44881437]), array([136.7185993]), array([134.66074378]), array([132.99055877]), array([134.33727972]), array([135.13421235]), array([136.37002876]), array([137.19930081]), array([136.2130197]), array([138.21811959]), array([136.96780226]), array([137.75789874]), array([138.69210536]), array([138.00248343]), array([139.62391632]), array([139.98425876]), array([139.27301063]), array([140.40170141]), array([138.93744679]), array([139.43884838]), array([138.78067515]), array([139.85211091]), array([139.81400481]), array([139.60710462]), array([139.137062]), array([138.02642112]), array([139.50052688]), array([142.37504639]), array([143.48745036]), array([143.1850412]), array([143.15279745]), array([142.153239]), array([141.39407264]), array([141.26575464]), array([144.0861556]), array([142.66027142]), array([142.80493995]), array([144.13706491]), array([141.33851874]), array([141.04195469]), array([141.9671958]), array([141.6794061]), array([142.75285841]), array([142.76041038]), array([141.33216554]), array([140.7709723]), array([141.31663175]), array([139.91121509]), array([137.93714085]), array([138.97345897]), array([140.38890724]), array([139.72602319]), array([140.32772745]), array([140.93887324]), array([141.49018369]), array([140.72909729]), array([139.85477052]), array([138.8117062]), array([140.0364052]), array([146.81656531]), array([146.35420458]), array([145.60169029]), array([145.46895914]), array([146.85020916]), array([145.3598026]), array([144.65113595]), array([146.42800681]), array([146.56198419]), array([143.07985368]), array([145.77025219]), array([147.75160524]), array([149.22363828]), array([150.05018666]), array([151.32562177]), array([150.53586014]), array([150.71932503]), array([149.08649223]), array([148.05408595]), array([147.45109731]), array([145.52072736]), array([145.75800133]), array([144.15583297]), array([143.74616849]), array([143.83332729]), array([143.33859966]), array([143.79719372]), array([144.71258552]), array([144.70232537]), array([143.8882678]), array([143.23574967]), array([143.93413594]), array([145.07181557]), array([144.62616361]), array([144.20314848]), array([141.32540986]), array([144.31805994]), array([146.0628942]), array([145.33682611]), array([148.53429968]), array([145.14889694]), array([145.85440442]), array([144.78219861]), array([141.83626498]), array([144.349856]), array([142.88645399]), array([142.00056247]), array([141.64176161]), array([142.41761977]), array([141.2250398]), array([143.5898552]), array([138.08711612]), array([133.2580794]), array([133.77408058]), array([132.42241461]), array([132.56161422]), array([131.17068162]), array([134.62529641]), array([135.61399366]), array([135.06358984]), array([135.01982404]), array([134.23888275]), array([135.94327081]), array([133.15271481]), array([133.3366471]), array([134.74144508]), array([135.75765853]), array([136.34868214]), array([133.07044047]), array([130.73817731]), array([130.53146068]), array([130.47383868]), array([128.83224972]), array([130.1101836]), array([128.9753989]), array([128.23532708]), array([128.6190585]), array([127.56304974]), array([127.14795103]), array([127.88334338]), array([124.11090489]), array([124.9188064]), array([122.78998584]), array([120.08266848]), array([122.4473161]), array([120.18613619]), array([120.75770463]), array([118.93181641]), array([122.48668027]), array([123.08866018]), array([120.65213223]), array([121.0042222]), array([118.97002165]), array([120.73519209]), array([119.89546132]), array([120.05526094]), array([120.81684773]), array([120.86180427]), array([122.23421228]), array([122.06150258]), array([123.61629772]), array([121.75370527]), array([121.0701066]), array([119.1498024]), array([119.45041224]), array([120.49787401]), array([119.02606661]), array([120.12651813]), array([122.44714604]), array([122.38118821]), array([118.59010624]), array([118.77243786]), array([131.6492925]), array([129.50514069]), array([129.13791]), array([128.70499203]), array([128.94712332]), array([126.86357424]), array([129.26685466]), array([128.49293686]), array([128.5094391]), array([129.03361256]), array([129.25163843]), array([126.12327165]), array([124.05987449]), array([125.94770628]), array([124.17730482]), array([123.80754382]), array([124.86731011]), array([124.60523059]), array([123.88878288]), array([123.65304191]), array([123.38467522]), array([125.82910866]), array([125.44115626]), array([125.55942722]), array([125.97577365]), array([123.50134173]), array([124.35264026]), array([124.91929501]), array([126.70464661]), array([125.65305151]), array([124.75637158]), array([127.26425493]), array([123.48363787]), array([124.73431919]), array([123.15467901]), array([123.4892059]), array([124.34093619]), array([124.13015586]), array([124.42767655]), array([120.09863668]), array([117.09045529]), array([117.27046018]), array([116.64208803]), array([117.63662758]), array([118.31585981]), array([116.81030621]), array([114.56736718]), array([117.27927355]), array([117.75289008]), array([115.45566352]), array([114.18085952]), array([114.81786776]), array([111.80287575]), array([114.22243013]), array([112.81568757]), array([111.64520344]), array([108.99019267]), array([106.70620432]), array([110.58484648]), array([111.98547833]), array([115.88749786]), array([115.68869861]), array([115.09997677]), array([117.45597065]), array([125.41854657]), array([125.60551589]), array([124.9445604]), array([126.16000712]), array([125.05575614]), array([127.21607298]), array([127.72254513]), array([131.45375863]), array([123.98398421]), array([122.26718997]), array([122.14866124]), array([120.38778559]), array([121.08858361]), array([121.63638462]), array([120.87822795]), array([121.76015147]), array([118.92099009]), array([118.17097581]), array([118.8593123]), array([120.40839826]), array([120.15856311]), array([122.77913776]), array([124.85102385]), array([124.13131647]), array([122.51686672]), array([122.19235534]), array([121.44360166]), array([120.53483514]), array([122.27531288]), array([121.11923454]), array([122.3156539]), array([124.43101957]), array([128.07392736]), array([123.27964786]), array([123.54095917]), array([125.13160895]), array([124.46845891]), array([124.18142057]), array([124.68689804]), array([125.64154476]), array([123.10362241]), array([123.25379335]), array([123.84554417]), array([124.82691438]), array([124.39085611]), array([125.29815172]), array([125.01166093]), array([126.69119922]), array([126.69437227]), array([127.09951913]), array([124.97806905]), array([126.19684577]), array([125.40011918]), array([125.81169033]), array([124.31376952]), array([122.978317]), array([122.9494576]), array([125.27157149]), array([124.33602671]), array([126.23635329]), array([125.76832113]), array([127.31964465]), array([128.64024777]), array([125.99919024]), array([126.50144615]), array([125.11695838]), array([123.99492174]), array([123.03933694]), array([120.601623]), array([119.25549585]), array([118.36346923]), array([115.6729646]), array([117.76109059]), array([117.46500746]), array([120.12569217]), array([119.63676684]), array([118.55281384]), array([120.85582573]), array([119.6429866]), array([117.20365339]), array([119.15809344]), array([116.3138137]), array([119.43763872]), array([120.97163887]), array([122.34854558]), array([124.16264065]), array([124.11786246]), array([125.17482076]), array([121.64792124]), array([122.03172283]), array([118.01210289]), array([129.84370802]), array([131.43374644]), array([135.5593759]), array([132.20217969]), array([129.03762735]), array([129.2453557]), array([125.95040808]), array([124.92803969]), array([124.9453621]), array([124.4719279]), array([125.51952731]), array([121.73695833]), array([118.50460816]), array([119.25374155]), array([121.2841625]), array([120.14030702]), array([121.58414883]), array([116.99410571]), array([117.06319436]), array([115.77385399]), array([120.18080353]), array([122.43003637]), array([122.84697651]), array([121.27686398]), array([123.25094813]), array([122.53057748]), array([121.64617963]), array([121.9296467]), array([125.5251191]), array([128.53132343]), array([126.14000852]), array([126.04084179]), array([124.80718477]), array([121.352314]), array([119.42099688]), array([116.82445519]), array([120.42870336]), array([119.97363352]), array([115.66729532]), array([118.885494]), array([123.80098358]), array([120.85628351]), array([121.61725218]), array([119.39298185]), array([114.97493775]), array([114.98392303]), array([106.33803112]), array([110.17621714]), array([105.09350572]), array([110.80902387]), array([112.83324927]), array([107.88381868]), array([113.03801644]), array([105.84610077]), array([105.58861476]), array([95.04143138]), array([95.49974047]), array([100.3416356]), array([103.23040019]), array([106.45912603]), array([99.07111555]), array([107.94992967]), array([102.85674873]), array([117.28049635]), array([124.5937696]), array([117.53769724]), array([127.5543641]), array([129.37049232]), array([133.96516928]), array([129.04132576]), array([134.18790167]), array([130.32159447]), array([132.92453038]), array([139.59988249]), array([141.49607335]), array([146.25138269]), array([149.76473323]), array([151.15043724]), array([150.89416924]), array([151.13100323]), array([150.73032687]), array([154.21402176]), array([155.26268487]), array([153.49839624]), array([154.46186451]), array([153.4567827]), array([156.65502095]), array([156.33670672]), array([149.28475723]), array([146.46062151]), array([143.86331853]), array([136.8811401]), array([137.69432604]), array([139.49330788])]\n"
     ]
    }
   ],
   "source": [
    "print(model_predictions)"
   ]
  },
  {
   "cell_type": "code",
   "execution_count": null,
   "metadata": {
    "colab": {
     "base_uri": "https://localhost:8080/",
     "height": 455
    },
    "id": "meqx9VnG-WUH",
    "outputId": "b2055ba2-3725-4ccd-8581-e0c3852f4bb5"
   },
   "outputs": [
    {
     "data": {
      "text/html": [
       "\n",
       "  <div id=\"df-96dd2f06-0796-4d6d-829b-d7112cea8c1e\">\n",
       "    <div class=\"colab-df-container\">\n",
       "      <div>\n",
       "<style scoped>\n",
       "    .dataframe tbody tr th:only-of-type {\n",
       "        vertical-align: middle;\n",
       "    }\n",
       "\n",
       "    .dataframe tbody tr th {\n",
       "        vertical-align: top;\n",
       "    }\n",
       "\n",
       "    .dataframe thead th {\n",
       "        text-align: right;\n",
       "    }\n",
       "</style>\n",
       "<table border=\"1\" class=\"dataframe\">\n",
       "  <thead>\n",
       "    <tr style=\"text-align: right;\">\n",
       "      <th></th>\n",
       "      <th>close</th>\n",
       "      <th>Predictions</th>\n",
       "    </tr>\n",
       "    <tr>\n",
       "      <th>timestamp</th>\n",
       "      <th></th>\n",
       "      <th></th>\n",
       "    </tr>\n",
       "  </thead>\n",
       "  <tbody>\n",
       "    <tr>\n",
       "      <th>2022-01-28</th>\n",
       "      <td>134.50</td>\n",
       "      <td>[195.2754076545199]</td>\n",
       "    </tr>\n",
       "    <tr>\n",
       "      <th>2022-01-27</th>\n",
       "      <td>132.52</td>\n",
       "      <td>[134.85300044792874]</td>\n",
       "    </tr>\n",
       "    <tr>\n",
       "      <th>2022-01-26</th>\n",
       "      <td>134.26</td>\n",
       "      <td>[134.40600083506013]</td>\n",
       "    </tr>\n",
       "    <tr>\n",
       "      <th>2022-01-25</th>\n",
       "      <td>136.10</td>\n",
       "      <td>[133.55147886272576]</td>\n",
       "    </tr>\n",
       "    <tr>\n",
       "      <th>2022-01-24</th>\n",
       "      <td>128.82</td>\n",
       "      <td>[137.94421540188145]</td>\n",
       "    </tr>\n",
       "    <tr>\n",
       "      <th>...</th>\n",
       "      <td>...</td>\n",
       "      <td>...</td>\n",
       "    </tr>\n",
       "    <tr>\n",
       "      <th>2020-01-31</th>\n",
       "      <td>143.73</td>\n",
       "      <td>[146.46062150853083]</td>\n",
       "    </tr>\n",
       "    <tr>\n",
       "      <th>2020-01-30</th>\n",
       "      <td>136.77</td>\n",
       "      <td>[143.86331853091127]</td>\n",
       "    </tr>\n",
       "    <tr>\n",
       "      <th>2020-01-29</th>\n",
       "      <td>137.69</td>\n",
       "      <td>[136.88114009678463]</td>\n",
       "    </tr>\n",
       "    <tr>\n",
       "      <th>2020-01-28</th>\n",
       "      <td>139.55</td>\n",
       "      <td>[137.69432603677538]</td>\n",
       "    </tr>\n",
       "    <tr>\n",
       "      <th>2020-01-27</th>\n",
       "      <td>138.62</td>\n",
       "      <td>[139.4933078776248]</td>\n",
       "    </tr>\n",
       "  </tbody>\n",
       "</table>\n",
       "<p>508 rows × 2 columns</p>\n",
       "</div>\n",
       "      <button class=\"colab-df-convert\" onclick=\"convertToInteractive('df-96dd2f06-0796-4d6d-829b-d7112cea8c1e')\"\n",
       "              title=\"Convert this dataframe to an interactive table.\"\n",
       "              style=\"display:none;\">\n",
       "        \n",
       "  <svg xmlns=\"http://www.w3.org/2000/svg\" height=\"24px\"viewBox=\"0 0 24 24\"\n",
       "       width=\"24px\">\n",
       "    <path d=\"M0 0h24v24H0V0z\" fill=\"none\"/>\n",
       "    <path d=\"M18.56 5.44l.94 2.06.94-2.06 2.06-.94-2.06-.94-.94-2.06-.94 2.06-2.06.94zm-11 1L8.5 8.5l.94-2.06 2.06-.94-2.06-.94L8.5 2.5l-.94 2.06-2.06.94zm10 10l.94 2.06.94-2.06 2.06-.94-2.06-.94-.94-2.06-.94 2.06-2.06.94z\"/><path d=\"M17.41 7.96l-1.37-1.37c-.4-.4-.92-.59-1.43-.59-.52 0-1.04.2-1.43.59L10.3 9.45l-7.72 7.72c-.78.78-.78 2.05 0 2.83L4 21.41c.39.39.9.59 1.41.59.51 0 1.02-.2 1.41-.59l7.78-7.78 2.81-2.81c.8-.78.8-2.07 0-2.86zM5.41 20L4 18.59l7.72-7.72 1.47 1.35L5.41 20z\"/>\n",
       "  </svg>\n",
       "      </button>\n",
       "      \n",
       "  <style>\n",
       "    .colab-df-container {\n",
       "      display:flex;\n",
       "      flex-wrap:wrap;\n",
       "      gap: 12px;\n",
       "    }\n",
       "\n",
       "    .colab-df-convert {\n",
       "      background-color: #E8F0FE;\n",
       "      border: none;\n",
       "      border-radius: 50%;\n",
       "      cursor: pointer;\n",
       "      display: none;\n",
       "      fill: #1967D2;\n",
       "      height: 32px;\n",
       "      padding: 0 0 0 0;\n",
       "      width: 32px;\n",
       "    }\n",
       "\n",
       "    .colab-df-convert:hover {\n",
       "      background-color: #E2EBFA;\n",
       "      box-shadow: 0px 1px 2px rgba(60, 64, 67, 0.3), 0px 1px 3px 1px rgba(60, 64, 67, 0.15);\n",
       "      fill: #174EA6;\n",
       "    }\n",
       "\n",
       "    [theme=dark] .colab-df-convert {\n",
       "      background-color: #3B4455;\n",
       "      fill: #D2E3FC;\n",
       "    }\n",
       "\n",
       "    [theme=dark] .colab-df-convert:hover {\n",
       "      background-color: #434B5C;\n",
       "      box-shadow: 0px 1px 3px 1px rgba(0, 0, 0, 0.15);\n",
       "      filter: drop-shadow(0px 1px 2px rgba(0, 0, 0, 0.3));\n",
       "      fill: #FFFFFF;\n",
       "    }\n",
       "  </style>\n",
       "\n",
       "      <script>\n",
       "        const buttonEl =\n",
       "          document.querySelector('#df-96dd2f06-0796-4d6d-829b-d7112cea8c1e button.colab-df-convert');\n",
       "        buttonEl.style.display =\n",
       "          google.colab.kernel.accessAllowed ? 'block' : 'none';\n",
       "\n",
       "        async function convertToInteractive(key) {\n",
       "          const element = document.querySelector('#df-96dd2f06-0796-4d6d-829b-d7112cea8c1e');\n",
       "          const dataTable =\n",
       "            await google.colab.kernel.invokeFunction('convertToInteractive',\n",
       "                                                     [key], {});\n",
       "          if (!dataTable) return;\n",
       "\n",
       "          const docLinkHtml = 'Like what you see? Visit the ' +\n",
       "            '<a target=\"_blank\" href=https://colab.research.google.com/notebooks/data_table.ipynb>data table notebook</a>'\n",
       "            + ' to learn more about interactive tables.';\n",
       "          element.innerHTML = '';\n",
       "          dataTable['output_type'] = 'display_data';\n",
       "          await google.colab.output.renderOutput(dataTable, element);\n",
       "          const docLink = document.createElement('div');\n",
       "          docLink.innerHTML = docLinkHtml;\n",
       "          element.appendChild(docLink);\n",
       "        }\n",
       "      </script>\n",
       "    </div>\n",
       "  </div>\n",
       "  "
      ],
      "text/plain": [
       "             close           Predictions\n",
       "timestamp                               \n",
       "2022-01-28  134.50   [195.2754076545199]\n",
       "2022-01-27  132.52  [134.85300044792874]\n",
       "2022-01-26  134.26  [134.40600083506013]\n",
       "2022-01-25  136.10  [133.55147886272576]\n",
       "2022-01-24  128.82  [137.94421540188145]\n",
       "...            ...                   ...\n",
       "2020-01-31  143.73  [146.46062150853083]\n",
       "2020-01-30  136.77  [143.86331853091127]\n",
       "2020-01-29  137.69  [136.88114009678463]\n",
       "2020-01-28  139.55  [137.69432603677538]\n",
       "2020-01-27  138.62   [139.4933078776248]\n",
       "\n",
       "[508 rows x 2 columns]"
      ]
     },
     "execution_count": 17,
     "metadata": {},
     "output_type": "execute_result"
    }
   ],
   "source": [
    "y_pred_df = test.copy()\n",
    "\n",
    "y_pred_df['Predictions'] = model_predictions\n",
    "#y_pred_df.drop(['close'],axis=1,inplace=True)\n",
    "\n",
    "y_pred_df"
   ]
  },
  {
   "cell_type": "code",
   "execution_count": null,
   "metadata": {
    "id": "MhLAwbxU-Zc1"
   },
   "outputs": [],
   "source": [
    "y_pred_df.drop(['close'],axis=1,inplace=True)"
   ]
  },
  {
   "cell_type": "code",
   "execution_count": null,
   "metadata": {
    "colab": {
     "base_uri": "https://localhost:8080/",
     "height": 394
    },
    "id": "qkmojwGn-be3",
    "outputId": "10577258-3427-48d0-9f1c-13d3bf61bcb8"
   },
   "outputs": [
    {
     "data": {
      "text/plain": [
       "<matplotlib.legend.Legend at 0x7f963da06b90>"
      ]
     },
     "execution_count": 19,
     "metadata": {},
     "output_type": "execute_result"
    },
    {
     "data": {
      "image/png": "[encoded data removed]",
      "text/plain": [
       "<Figure size 648x360 with 1 Axes>"
      ]
     },
     "metadata": {
      "needs_background": "light"
     },
     "output_type": "display_data"
    }
   ],
   "source": [
    "plt.plot(test, color = \"red\")\n",
    "plt.plot(y_pred_df, color = \"blue\", ls = '--')\n",
    "\n",
    "plt.ylabel('IBM Close Price')\n",
    "plt.xlabel('Date')\n",
    "plt.xticks(rotation=45)\n",
    "\n",
    "plt.title(\"IBM Data results\")\n",
    "plt.legend(['test data','predictions'])"
   ]
  },
  {
   "cell_type": "code",
   "execution_count": null,
   "metadata": {
    "id": "BkGYurCv-fkq"
   },
   "outputs": [],
   "source": []
  },
  {
   "cell_type": "markdown",
   "metadata": {
    "id": "12XUgZWJ_JDV"
   },
   "source": [
    "### Using LSTM approach"
   ]
  },
  {
   "cell_type": "code",
   "execution_count": null,
   "metadata": {
    "id": "bCTOGWbFlE6s"
   },
   "outputs": [],
   "source": [
    "import math\n",
    "import matplotlib.pyplot as plt\n",
    "import keras\n",
    "import pandas as pd\n",
    "import numpy as np\n",
    "from keras.models import Sequential\n",
    "from keras.layers import Dense\n",
    "from keras.layers import LSTM\n",
    "from keras.layers import Dropout\n",
    "from keras.layers import *\n",
    "from sklearn.preprocessing import StandardScaler\n",
    "from sklearn.metrics import mean_squared_error\n",
    "from sklearn.metrics import mean_absolute_error\n",
    "from sklearn.model_selection import train_test_split\n",
    "from keras.callbacks import EarlyStopping"
   ]
  },
  {
   "cell_type": "code",
   "execution_count": null,
   "metadata": {
    "colab": {
     "base_uri": "https://localhost:8080/"
    },
    "id": "oL92QV-TmIht",
    "outputId": "f40b38b0-9de0-461d-c9a2-223f50dcefd3"
   },
   "outputs": [
    {
     "data": {
      "text/plain": [
       "(5598, 6)"
      ]
     },
     "execution_count": 15,
     "metadata": {},
     "output_type": "execute_result"
    }
   ],
   "source": [
    "raw = pd.read_csv('daily_IBM.csv').loc[::-1].reset_index(drop=True)\n",
    "raw.shape"
   ]
  },
  {
   "cell_type": "code",
   "execution_count": null,
   "metadata": {
    "colab": {
     "base_uri": "https://localhost:8080/",
     "height": 206
    },
    "id": "T-ANXz_PmTDj",
    "outputId": "64bbc6fe-3a6b-4807-ba00-d9e04f4cd4a2"
   },
   "outputs": [
    {
     "data": {
      "text/html": [
       "\n",
       "  <div id=\"df-8304c0fc-170b-4f43-852b-200244d8fc62\">\n",
       "    <div class=\"colab-df-container\">\n",
       "      <div>\n",
       "<style scoped>\n",
       "    .dataframe tbody tr th:only-of-type {\n",
       "        vertical-align: middle;\n",
       "    }\n",
       "\n",
       "    .dataframe tbody tr th {\n",
       "        vertical-align: top;\n",
       "    }\n",
       "\n",
       "    .dataframe thead th {\n",
       "        text-align: right;\n",
       "    }\n",
       "</style>\n",
       "<table border=\"1\" class=\"dataframe\">\n",
       "  <thead>\n",
       "    <tr style=\"text-align: right;\">\n",
       "      <th></th>\n",
       "      <th>timestamp</th>\n",
       "      <th>open</th>\n",
       "      <th>high</th>\n",
       "      <th>low</th>\n",
       "      <th>close</th>\n",
       "      <th>volume</th>\n",
       "    </tr>\n",
       "  </thead>\n",
       "  <tbody>\n",
       "    <tr>\n",
       "      <th>0</th>\n",
       "      <td>1999-11-01</td>\n",
       "      <td>98.50</td>\n",
       "      <td>98.81</td>\n",
       "      <td>96.37</td>\n",
       "      <td>96.75</td>\n",
       "      <td>9551800</td>\n",
       "    </tr>\n",
       "    <tr>\n",
       "      <th>1</th>\n",
       "      <td>1999-11-02</td>\n",
       "      <td>96.75</td>\n",
       "      <td>96.81</td>\n",
       "      <td>93.69</td>\n",
       "      <td>94.81</td>\n",
       "      <td>11105400</td>\n",
       "    </tr>\n",
       "    <tr>\n",
       "      <th>2</th>\n",
       "      <td>1999-11-03</td>\n",
       "      <td>95.87</td>\n",
       "      <td>95.94</td>\n",
       "      <td>93.50</td>\n",
       "      <td>94.37</td>\n",
       "      <td>10369100</td>\n",
       "    </tr>\n",
       "    <tr>\n",
       "      <th>3</th>\n",
       "      <td>1999-11-04</td>\n",
       "      <td>94.44</td>\n",
       "      <td>94.44</td>\n",
       "      <td>90.00</td>\n",
       "      <td>91.56</td>\n",
       "      <td>16697600</td>\n",
       "    </tr>\n",
       "    <tr>\n",
       "      <th>4</th>\n",
       "      <td>1999-11-05</td>\n",
       "      <td>92.75</td>\n",
       "      <td>92.94</td>\n",
       "      <td>90.19</td>\n",
       "      <td>90.25</td>\n",
       "      <td>13737600</td>\n",
       "    </tr>\n",
       "  </tbody>\n",
       "</table>\n",
       "</div>\n",
       "      <button class=\"colab-df-convert\" onclick=\"convertToInteractive('df-8304c0fc-170b-4f43-852b-200244d8fc62')\"\n",
       "              title=\"Convert this dataframe to an interactive table.\"\n",
       "              style=\"display:none;\">\n",
       "        \n",
       "  <svg xmlns=\"http://www.w3.org/2000/svg\" height=\"24px\"viewBox=\"0 0 24 24\"\n",
       "       width=\"24px\">\n",
       "    <path d=\"M0 0h24v24H0V0z\" fill=\"none\"/>\n",
       "    <path d=\"M18.56 5.44l.94 2.06.94-2.06 2.06-.94-2.06-.94-.94-2.06-.94 2.06-2.06.94zm-11 1L8.5 8.5l.94-2.06 2.06-.94-2.06-.94L8.5 2.5l-.94 2.06-2.06.94zm10 10l.94 2.06.94-2.06 2.06-.94-2.06-.94-.94-2.06-.94 2.06-2.06.94z\"/><path d=\"M17.41 7.96l-1.37-1.37c-.4-.4-.92-.59-1.43-.59-.52 0-1.04.2-1.43.59L10.3 9.45l-7.72 7.72c-.78.78-.78 2.05 0 2.83L4 21.41c.39.39.9.59 1.41.59.51 0 1.02-.2 1.41-.59l7.78-7.78 2.81-2.81c.8-.78.8-2.07 0-2.86zM5.41 20L4 18.59l7.72-7.72 1.47 1.35L5.41 20z\"/>\n",
       "  </svg>\n",
       "      </button>\n",
       "      \n",
       "  <style>\n",
       "    .colab-df-container {\n",
       "      display:flex;\n",
       "      flex-wrap:wrap;\n",
       "      gap: 12px;\n",
       "    }\n",
       "\n",
       "    .colab-df-convert {\n",
       "      background-color: #E8F0FE;\n",
       "      border: none;\n",
       "      border-radius: 50%;\n",
       "      cursor: pointer;\n",
       "      display: none;\n",
       "      fill: #1967D2;\n",
       "      height: 32px;\n",
       "      padding: 0 0 0 0;\n",
       "      width: 32px;\n",
       "    }\n",
       "\n",
       "    .colab-df-convert:hover {\n",
       "      background-color: #E2EBFA;\n",
       "      box-shadow: 0px 1px 2px rgba(60, 64, 67, 0.3), 0px 1px 3px 1px rgba(60, 64, 67, 0.15);\n",
       "      fill: #174EA6;\n",
       "    }\n",
       "\n",
       "    [theme=dark] .colab-df-convert {\n",
       "      background-color: #3B4455;\n",
       "      fill: #D2E3FC;\n",
       "    }\n",
       "\n",
       "    [theme=dark] .colab-df-convert:hover {\n",
       "      background-color: #434B5C;\n",
       "      box-shadow: 0px 1px 3px 1px rgba(0, 0, 0, 0.15);\n",
       "      filter: drop-shadow(0px 1px 2px rgba(0, 0, 0, 0.3));\n",
       "      fill: #FFFFFF;\n",
       "    }\n",
       "  </style>\n",
       "\n",
       "      <script>\n",
       "        const buttonEl =\n",
       "          document.querySelector('#df-8304c0fc-170b-4f43-852b-200244d8fc62 button.colab-df-convert');\n",
       "        buttonEl.style.display =\n",
       "          google.colab.kernel.accessAllowed ? 'block' : 'none';\n",
       "\n",
       "        async function convertToInteractive(key) {\n",
       "          const element = document.querySelector('#df-8304c0fc-170b-4f43-852b-200244d8fc62');\n",
       "          const dataTable =\n",
       "            await google.colab.kernel.invokeFunction('convertToInteractive',\n",
       "                                                     [key], {});\n",
       "          if (!dataTable) return;\n",
       "\n",
       "          const docLinkHtml = 'Like what you see? Visit the ' +\n",
       "            '<a target=\"_blank\" href=https://colab.research.google.com/notebooks/data_table.ipynb>data table notebook</a>'\n",
       "            + ' to learn more about interactive tables.';\n",
       "          element.innerHTML = '';\n",
       "          dataTable['output_type'] = 'display_data';\n",
       "          await google.colab.output.renderOutput(dataTable, element);\n",
       "          const docLink = document.createElement('div');\n",
       "          docLink.innerHTML = docLinkHtml;\n",
       "          element.appendChild(docLink);\n",
       "        }\n",
       "      </script>\n",
       "    </div>\n",
       "  </div>\n",
       "  "
      ],
      "text/plain": [
       "    timestamp   open   high    low  close    volume\n",
       "0  1999-11-01  98.50  98.81  96.37  96.75   9551800\n",
       "1  1999-11-02  96.75  96.81  93.69  94.81  11105400\n",
       "2  1999-11-03  95.87  95.94  93.50  94.37  10369100\n",
       "3  1999-11-04  94.44  94.44  90.00  91.56  16697600\n",
       "4  1999-11-05  92.75  92.94  90.19  90.25  13737600"
      ]
     },
     "execution_count": 16,
     "metadata": {},
     "output_type": "execute_result"
    }
   ],
   "source": [
    "raw.head()"
   ]
  },
  {
   "cell_type": "code",
   "execution_count": null,
   "metadata": {
    "colab": {
     "base_uri": "https://localhost:8080/"
    },
    "id": "fTgHcGEywvKW",
    "outputId": "190cd485-bee7-4bd4-9bdb-495f46e144ff"
   },
   "outputs": [
    {
     "data": {
      "text/plain": [
       "0       1999-11-01\n",
       "1       1999-11-02\n",
       "2       1999-11-03\n",
       "3       1999-11-04\n",
       "4       1999-11-05\n",
       "           ...    \n",
       "5593    2022-01-24\n",
       "5594    2022-01-25\n",
       "5595    2022-01-26\n",
       "5596    2022-01-27\n",
       "5597    2022-01-28\n",
       "Name: timestamp, Length: 5598, dtype: object"
      ]
     },
     "execution_count": 45,
     "metadata": {},
     "output_type": "execute_result"
    }
   ],
   "source": [
    "raw['timestamp']"
   ]
  },
  {
   "cell_type": "code",
   "execution_count": null,
   "metadata": {
    "id": "fxDwo759nX8g"
   },
   "outputs": [],
   "source": [
    "close = raw['close'].copy()"
   ]
  },
  {
   "cell_type": "code",
   "execution_count": null,
   "metadata": {
    "id": "06EVz1hLmVh6"
   },
   "outputs": [],
   "source": [
    "training_set = (close.iloc[:5000]).to_numpy().reshape(-1,1)\n",
    "test_set = (close.iloc[5000:]).to_numpy().reshape(-1,1)"
   ]
  },
  {
   "cell_type": "code",
   "execution_count": null,
   "metadata": {
    "id": "-Yx--MvFoilx"
   },
   "outputs": [],
   "source": [
    "# Feature Scaling\n",
    "sc = StandardScaler()\n",
    "sc.fit(training_set)\n",
    "training_set_scaled = sc.transform(training_set)"
   ]
  },
  {
   "cell_type": "code",
   "execution_count": null,
   "metadata": {
    "id": "OD5M7E7YojvO"
   },
   "outputs": [],
   "source": [
    "# Creating a data structure with 14 time-steps and 1 output\n",
    "X_train = []\n",
    "y_train = []\n",
    "for i in range(14, 5000):\n",
    "    X_train.append(training_set_scaled[i-14:i, 0])\n",
    "    y_train.append(training_set_scaled[i, 0])\n",
    "\n",
    "X_train, y_train = np.array(X_train), np.array(y_train)\n",
    "X_train = X_train.reshape(X_train.shape[0], X_train.shape[1], 1)"
   ]
  },
  {
   "cell_type": "code",
   "execution_count": null,
   "metadata": {
    "colab": {
     "base_uri": "https://localhost:8080/"
    },
    "id": "URMlIAT-r0Tx",
    "outputId": "b24a2a52-2f22-4056-f5cf-5f388dd5f286"
   },
   "outputs": [
    {
     "data": {
      "text/plain": [
       "(4986, 14, 1)"
      ]
     },
     "execution_count": 35,
     "metadata": {},
     "output_type": "execute_result"
    }
   ],
   "source": [
    "X_train.shape, y_tra"
   ]
  },
  {
   "cell_type": "code",
   "execution_count": null,
   "metadata": {
    "id": "kZ5AXLEcsI-a"
   },
   "outputs": [],
   "source": [
    "model = Sequential()\n",
    "\n",
    "#Adding the first LSTM layer and some Dropout regularisation\n",
    "model.add(LSTM(units = 50, return_sequences = True, input_shape = (X_train.shape[1], 1)))\n",
    "model.add(Dropout(0.2))\n",
    "\n",
    "# Adding a second LSTM layer and some Dropout regularisation\n",
    "model.add(LSTM(units = 50, return_sequences = True))\n",
    "model.add(Dropout(0.2))\n",
    "\n",
    "# Adding a third LSTM layer and some Dropout regularisation\n",
    "model.add(LSTM(units = 50, return_sequences = True))\n",
    "model.add(Dropout(0.2))\n",
    "\n",
    "# Adding a fourth LSTM layer and some Dropout regularisation\n",
    "model.add(LSTM(units = 50))\n",
    "model.add(Dropout(0.2))\n",
    "\n",
    "# Adding the output layer\n",
    "model.add(Dense(units = 1))\n",
    "\n",
    "# Compiling the RNN\n",
    "model.compile(optimizer = 'adam', loss = 'mean_squared_error')"
   ]
  },
  {
   "cell_type": "code",
   "execution_count": null,
   "metadata": {
    "colab": {
     "base_uri": "https://localhost:8080/"
    },
    "id": "n58pqSVGtSpr",
    "outputId": "59ac5c75-6779-46a0-9f6a-6db50a939b75"
   },
   "outputs": [
    {
     "name": "stdout",
     "output_type": "stream",
     "text": [
      "Epoch 1/100\n",
      "156/156 [==============================] - 12s 33ms/step - loss: 0.0793\n",
      "Epoch 2/100\n",
      "156/156 [==============================] - 5s 33ms/step - loss: 0.0290\n",
      "Epoch 3/100\n",
      "156/156 [==============================] - 5s 33ms/step - loss: 0.0270\n",
      "Epoch 4/100\n",
      "156/156 [==============================] - 5s 34ms/step - loss: 0.0246\n",
      "Epoch 5/100\n",
      "156/156 [==============================] - 5s 33ms/step - loss: 0.0251\n",
      "Epoch 6/100\n",
      "156/156 [==============================] - 5s 33ms/step - loss: 0.0223\n",
      "Epoch 7/100\n",
      "156/156 [==============================] - 5s 33ms/step - loss: 0.0222\n",
      "Epoch 8/100\n",
      "156/156 [==============================] - 5s 33ms/step - loss: 0.0185\n",
      "Epoch 9/100\n",
      "156/156 [==============================] - 5s 33ms/step - loss: 0.0176\n",
      "Epoch 10/100\n",
      "156/156 [==============================] - 5s 33ms/step - loss: 0.0183\n",
      "Epoch 11/100\n",
      "156/156 [==============================] - 5s 33ms/step - loss: 0.0173\n",
      "Epoch 12/100\n",
      "156/156 [==============================] - 5s 33ms/step - loss: 0.0160\n",
      "Epoch 13/100\n",
      "156/156 [==============================] - 5s 33ms/step - loss: 0.0150\n",
      "Epoch 14/100\n",
      "156/156 [==============================] - 5s 34ms/step - loss: 0.0145\n",
      "Epoch 15/100\n",
      "156/156 [==============================] - 5s 33ms/step - loss: 0.0149\n",
      "Epoch 16/100\n",
      "156/156 [==============================] - 5s 33ms/step - loss: 0.0144\n",
      "Epoch 17/100\n",
      "156/156 [==============================] - 5s 34ms/step - loss: 0.0143\n",
      "Epoch 18/100\n",
      "156/156 [==============================] - 5s 33ms/step - loss: 0.0134\n",
      "Epoch 19/100\n",
      "156/156 [==============================] - 5s 33ms/step - loss: 0.0131\n",
      "Epoch 20/100\n",
      "156/156 [==============================] - 5s 34ms/step - loss: 0.0129\n",
      "Epoch 21/100\n",
      "156/156 [==============================] - 5s 33ms/step - loss: 0.0134\n",
      "Epoch 22/100\n",
      "156/156 [==============================] - 5s 33ms/step - loss: 0.0125\n",
      "Epoch 23/100\n",
      "156/156 [==============================] - 5s 33ms/step - loss: 0.0127\n",
      "Epoch 24/100\n",
      "156/156 [==============================] - 5s 33ms/step - loss: 0.0115\n",
      "Epoch 25/100\n",
      "156/156 [==============================] - 5s 33ms/step - loss: 0.0115\n",
      "Epoch 26/100\n",
      "156/156 [==============================] - 5s 33ms/step - loss: 0.0119\n",
      "Epoch 27/100\n",
      "156/156 [==============================] - 5s 33ms/step - loss: 0.0119\n",
      "Epoch 28/100\n",
      "156/156 [==============================] - 5s 33ms/step - loss: 0.0117\n",
      "Epoch 29/100\n",
      "156/156 [==============================] - 5s 34ms/step - loss: 0.0107\n",
      "Epoch 30/100\n",
      "156/156 [==============================] - 5s 33ms/step - loss: 0.0114\n",
      "Epoch 31/100\n",
      "156/156 [==============================] - 5s 33ms/step - loss: 0.0106\n",
      "Epoch 32/100\n",
      "156/156 [==============================] - 5s 33ms/step - loss: 0.0124\n",
      "Epoch 33/100\n",
      "156/156 [==============================] - 5s 33ms/step - loss: 0.0109\n",
      "Epoch 34/100\n",
      "156/156 [==============================] - 5s 33ms/step - loss: 0.0109\n",
      "Epoch 35/100\n",
      "156/156 [==============================] - 5s 33ms/step - loss: 0.0111\n",
      "Epoch 36/100\n",
      "156/156 [==============================] - 5s 33ms/step - loss: 0.0110\n",
      "Epoch 37/100\n",
      "156/156 [==============================] - 5s 33ms/step - loss: 0.0102\n",
      "Epoch 38/100\n",
      "156/156 [==============================] - 5s 33ms/step - loss: 0.0105\n",
      "Epoch 39/100\n",
      "156/156 [==============================] - 5s 33ms/step - loss: 0.0103\n",
      "Epoch 40/100\n",
      "156/156 [==============================] - 5s 33ms/step - loss: 0.0101\n",
      "Epoch 41/100\n",
      "156/156 [==============================] - 5s 34ms/step - loss: 0.0104\n",
      "Epoch 42/100\n",
      "156/156 [==============================] - 5s 34ms/step - loss: 0.0102\n",
      "Epoch 43/100\n",
      "156/156 [==============================] - 5s 34ms/step - loss: 0.0102\n",
      "Epoch 44/100\n",
      "156/156 [==============================] - 5s 33ms/step - loss: 0.0101\n",
      "Epoch 45/100\n",
      "156/156 [==============================] - 5s 33ms/step - loss: 0.0101\n",
      "Epoch 46/100\n",
      "156/156 [==============================] - 5s 33ms/step - loss: 0.0095\n",
      "Epoch 47/100\n",
      "156/156 [==============================] - 5s 33ms/step - loss: 0.0101\n",
      "Epoch 48/100\n",
      "156/156 [==============================] - 5s 33ms/step - loss: 0.0100\n",
      "Epoch 49/100\n",
      "156/156 [==============================] - 5s 33ms/step - loss: 0.0095\n",
      "Epoch 50/100\n",
      "156/156 [==============================] - 5s 33ms/step - loss: 0.0098\n",
      "Epoch 51/100\n",
      "156/156 [==============================] - 5s 33ms/step - loss: 0.0093\n",
      "Epoch 52/100\n",
      "156/156 [==============================] - 5s 33ms/step - loss: 0.0105\n",
      "Epoch 53/100\n",
      "156/156 [==============================] - 5s 33ms/step - loss: 0.0099\n",
      "Epoch 54/100\n",
      "156/156 [==============================] - 5s 33ms/step - loss: 0.0090\n",
      "Epoch 55/100\n",
      "156/156 [==============================] - 5s 33ms/step - loss: 0.0094\n",
      "Epoch 56/100\n",
      "156/156 [==============================] - 5s 33ms/step - loss: 0.0100\n",
      "Epoch 57/100\n",
      "156/156 [==============================] - 5s 33ms/step - loss: 0.0095\n",
      "Epoch 58/100\n",
      "156/156 [==============================] - 5s 33ms/step - loss: 0.0095\n",
      "Epoch 59/100\n",
      "156/156 [==============================] - 5s 33ms/step - loss: 0.0097\n",
      "Epoch 60/100\n",
      "156/156 [==============================] - 5s 33ms/step - loss: 0.0099\n",
      "Epoch 61/100\n",
      "156/156 [==============================] - 5s 33ms/step - loss: 0.0098\n",
      "Epoch 62/100\n",
      "156/156 [==============================] - 5s 33ms/step - loss: 0.0097\n",
      "Epoch 63/100\n",
      "156/156 [==============================] - 5s 33ms/step - loss: 0.0099\n",
      "Epoch 64/100\n",
      "156/156 [==============================] - 5s 33ms/step - loss: 0.0099\n",
      "Epoch 65/100\n",
      "156/156 [==============================] - 5s 33ms/step - loss: 0.0095\n",
      "Epoch 66/100\n",
      "156/156 [==============================] - 5s 33ms/step - loss: 0.0098\n",
      "Epoch 67/100\n",
      "156/156 [==============================] - 5s 33ms/step - loss: 0.0101\n",
      "Epoch 68/100\n",
      "156/156 [==============================] - 5s 33ms/step - loss: 0.0089\n",
      "Epoch 69/100\n",
      "156/156 [==============================] - 5s 33ms/step - loss: 0.0101\n",
      "Epoch 70/100\n",
      "156/156 [==============================] - 5s 34ms/step - loss: 0.0093\n",
      "Epoch 71/100\n",
      "156/156 [==============================] - 5s 33ms/step - loss: 0.0098\n",
      "Epoch 72/100\n",
      "156/156 [==============================] - 5s 33ms/step - loss: 0.0096\n",
      "Epoch 73/100\n",
      "156/156 [==============================] - 5s 33ms/step - loss: 0.0094\n",
      "Epoch 74/100\n",
      "156/156 [==============================] - 5s 33ms/step - loss: 0.0098\n",
      "Epoch 75/100\n",
      "156/156 [==============================] - 5s 33ms/step - loss: 0.0093\n",
      "Epoch 76/100\n",
      "156/156 [==============================] - 5s 33ms/step - loss: 0.0098\n",
      "Epoch 77/100\n",
      "156/156 [==============================] - 5s 33ms/step - loss: 0.0091\n",
      "Epoch 78/100\n",
      "156/156 [==============================] - 5s 34ms/step - loss: 0.0094\n",
      "Epoch 79/100\n",
      "156/156 [==============================] - 5s 34ms/step - loss: 0.0100\n",
      "Epoch 80/100\n",
      "156/156 [==============================] - 5s 34ms/step - loss: 0.0098\n",
      "Epoch 81/100\n",
      "156/156 [==============================] - 5s 34ms/step - loss: 0.0094\n",
      "Epoch 82/100\n",
      "156/156 [==============================] - 5s 34ms/step - loss: 0.0094\n",
      "Epoch 83/100\n",
      "156/156 [==============================] - 5s 34ms/step - loss: 0.0089\n",
      "Epoch 84/100\n",
      "156/156 [==============================] - 5s 34ms/step - loss: 0.0105\n",
      "Epoch 85/100\n",
      "156/156 [==============================] - 5s 33ms/step - loss: 0.0094\n",
      "Epoch 86/100\n",
      "156/156 [==============================] - 5s 33ms/step - loss: 0.0098\n",
      "Epoch 87/100\n",
      "156/156 [==============================] - 5s 33ms/step - loss: 0.0095\n",
      "Epoch 88/100\n",
      "156/156 [==============================] - 5s 33ms/step - loss: 0.0094\n",
      "Epoch 89/100\n",
      "156/156 [==============================] - 5s 34ms/step - loss: 0.0092\n",
      "Epoch 90/100\n",
      "156/156 [==============================] - 5s 34ms/step - loss: 0.0095\n",
      "Epoch 91/100\n",
      "156/156 [==============================] - 5s 33ms/step - loss: 0.0094\n",
      "Epoch 92/100\n",
      "156/156 [==============================] - 5s 34ms/step - loss: 0.0097\n",
      "Epoch 93/100\n",
      "156/156 [==============================] - 5s 33ms/step - loss: 0.0093\n",
      "Epoch 94/100\n",
      "156/156 [==============================] - 5s 33ms/step - loss: 0.0093\n",
      "Epoch 95/100\n",
      "156/156 [==============================] - 5s 34ms/step - loss: 0.0094\n",
      "Epoch 96/100\n",
      "156/156 [==============================] - 5s 34ms/step - loss: 0.0095\n",
      "Epoch 97/100\n",
      "156/156 [==============================] - 5s 33ms/step - loss: 0.0091\n",
      "Epoch 98/100\n",
      "156/156 [==============================] - 5s 34ms/step - loss: 0.0089\n",
      "Epoch 99/100\n",
      "156/156 [==============================] - 5s 34ms/step - loss: 0.0091\n",
      "Epoch 100/100\n",
      "156/156 [==============================] - 5s 34ms/step - loss: 0.0098\n"
     ]
    },
    {
     "data": {
      "text/plain": [
       "<keras.callbacks.History at 0x7ffb1325e150>"
      ]
     },
     "execution_count": 37,
     "metadata": {},
     "output_type": "execute_result"
    }
   ],
   "source": [
    "# Fitting the RNN to the Training set\n",
    "model.fit(X_train, y_train, epochs = 100, batch_size = 32)"
   ]
  },
  {
   "cell_type": "code",
   "execution_count": null,
   "metadata": {
    "id": "tRGcZY7PtUKO"
   },
   "outputs": [],
   "source": [
    "# Preparing test data\n",
    "inputs = close[5000 - 14:].to_numpy().reshape(-1,1)\n",
    "\n",
    "inputs = inputs.reshape(-1,1)\n",
    "inputs = sc.transform(inputs)\n"
   ]
  },
  {
   "cell_type": "code",
   "execution_count": null,
   "metadata": {
    "colab": {
     "base_uri": "https://localhost:8080/"
    },
    "id": "JzrUKvRJu18m",
    "outputId": "d893d2da-e622-4dc0-de05-bf70b54de763"
   },
   "outputs": [
    {
     "data": {
      "text/plain": [
       "(612, 1)"
      ]
     },
     "execution_count": 39,
     "metadata": {},
     "output_type": "execute_result"
    }
   ],
   "source": [
    "inputs.shape"
   ]
  },
  {
   "cell_type": "code",
   "execution_count": null,
   "metadata": {
    "id": "VUcnH7Zou0Rd"
   },
   "outputs": [],
   "source": [
    "X_test = []\n",
    "for i in range(14, 612):\n",
    "    X_test.append(inputs[i-14:i, 0])\n",
    "\n",
    "X_test = np.array(X_test)\n",
    "X_test = np.reshape(X_test, (X_test.shape[0], X_test.shape[1], 1))"
   ]
  },
  {
   "cell_type": "code",
   "execution_count": null,
   "metadata": {
    "colab": {
     "base_uri": "https://localhost:8080/"
    },
    "id": "CZ9Troupvejc",
    "outputId": "2082d399-beeb-4caf-f5e0-243881925a7a"
   },
   "outputs": [
    {
     "data": {
      "text/plain": [
       "(598, 14, 1)"
      ]
     },
     "execution_count": 41,
     "metadata": {},
     "output_type": "execute_result"
    }
   ],
   "source": [
    "X_test.shape"
   ]
  },
  {
   "cell_type": "code",
   "execution_count": null,
   "metadata": {
    "id": "mQ05aYR0vgRk"
   },
   "outputs": [],
   "source": [
    "predicted_stock_price = model.predict(X_test)\n",
    "predicted_stock_price = sc.inverse_transform(predicted_stock_price)"
   ]
  },
  {
   "cell_type": "code",
   "execution_count": null,
   "metadata": {
    "colab": {
     "base_uri": "https://localhost:8080/",
     "height": 621
    },
    "id": "3wFvKjw9v1PW",
    "outputId": "abc53aad-0d51-49d6-f455-9afebf086dd5"
   },
   "outputs": [
    {
     "data": {
      "image/png": "[encoded data removed]",
      "text/plain": [
       "<Figure size 1440x720 with 1 Axes>"
      ]
     },
     "metadata": {
      "needs_background": "light"
     },
     "output_type": "display_data"
    }
   ],
   "source": [
    "# Visualising the results\n",
    "plt.figure(figsize=(20,10))\n",
    "plt.plot(raw.loc[5000:,\"timestamp\"], test_set, 'r', label = 'Real IBM Stock Price')\n",
    "plt.plot(raw.loc[5000:,\"timestamp\"], predicted_stock_price, 'b', label = 'Predicted IBM Stock Price')\n",
    "plt.xticks(np.arange(0,598,50))\n",
    "plt.title('IBM Stock Price Prediction')\n",
    "plt.xlabel('Time')\n",
    "plt.ylabel('IBM Stock Close Price')\n",
    "plt.legend()\n",
    "plt.show()"
   ]
  },
  {
   "cell_type": "code",
   "execution_count": null,
   "metadata": {
    "colab": {
     "base_uri": "https://localhost:8080/"
    },
    "id": "A1R-H2Eawpro",
    "outputId": "c225661d-18d0-4155-bc86-b8395e3f0ff2"
   },
   "outputs": [
    {
     "data": {
      "text/plain": [
       "timestamp    2013-10-01\n",
       "open             185.34\n",
       "high             186.65\n",
       "low              184.65\n",
       "close            186.38\n",
       "volume          2681200\n",
       "Name: 3500, dtype: object"
      ]
     },
     "execution_count": 50,
     "metadata": {},
     "output_type": "execute_result"
    }
   ],
   "source": [
    "raw.iloc[3500]"
   ]
  },
  {
   "cell_type": "markdown",
   "metadata": {
    "id": "p8eLJW870WVu"
   },
   "source": [
    "## Trying prediction for an arbitrary date"
   ]
  },
  {
   "cell_type": "code",
   "execution_count": null,
   "metadata": {
    "id": "RRtou-dVyNS9"
   },
   "outputs": [],
   "source": [
    "def prep_input(input_date):\n",
    "  idx = raw[raw['timestamp']==input_date].index.values[0]\n",
    "\n",
    "  input = sc.transform(raw.loc[idx-13:idx,'close'].to_numpy().reshape(14,1))\n",
    "\n",
    "  return input.reshape(1,14,1)"
   ]
  },
  {
   "cell_type": "code",
   "execution_count": null,
   "metadata": {
    "id": "eh-24X89yt4i"
   },
   "outputs": [],
   "source": [
    "predicted_stock_price = model.predict(prep_input('2013-10-01'))\n",
    "predicted_stock_price = sc.inverse_transform(predicted_stock_price)"
   ]
  },
  {
   "cell_type": "code",
   "execution_count": null,
   "metadata": {
    "colab": {
     "base_uri": "https://localhost:8080/"
    },
    "id": "R34t9LUayzst",
    "outputId": "6255807c-542f-4428-9ee3-c1ac47541755"
   },
   "outputs": [
    {
     "data": {
      "text/plain": [
       "array([[187.11333]], dtype=float32)"
      ]
     },
     "execution_count": 77,
     "metadata": {},
     "output_type": "execute_result"
    }
   ],
   "source": [
    "predicted_stock_price"
   ]
  },
  {
   "cell_type": "code",
   "execution_count": null,
   "metadata": {
    "colab": {
     "base_uri": "https://localhost:8080/"
    },
    "id": "FUvbkwb71RmN",
    "outputId": "70e06359-4d14-4098-975c-e3a11c495f34"
   },
   "outputs": [
    {
     "data": {
      "text/plain": [
       "timestamp    2013-10-02\n",
       "open             185.54\n",
       "high             186.31\n",
       "low              184.41\n",
       "close            184.96\n",
       "volume          3617100\n",
       "Name: 3501, dtype: object"
      ]
     },
     "execution_count": 78,
     "metadata": {},
     "output_type": "execute_result"
    }
   ],
   "source": [
    "raw.iloc[3501]"
   ]
  }
 ],
 "metadata": {
  "colab": {
   "name": "Model building code.ipynb",
   "provenance": []
  },
  "hide_input": false,
  "kernelspec": {
   "display_name": "Python 3",
   "language": "python",
   "name": "python3"
  },
  "language_info": {
   "codemirror_mode": {
    "name": "ipython",
    "version": 3
   },
   "file_extension": ".py",
   "mimetype": "text/x-python",
   "name": "python",
   "nbconvert_exporter": "python",
   "pygments_lexer": "ipython3",
   "version": "3.8.5"
  },
  "varInspector": {
   "cols": {
    "lenName": 16,
    "lenType": 16,
    "lenVar": 40
   },
   "kernels_config": {
    "python": {
     "delete_cmd_postfix": "",
     "delete_cmd_prefix": "del ",
     "library": "var_list.py",
     "varRefreshCmd": "print(var_dic_list())"
    },
    "r": {
     "delete_cmd_postfix": ") ",
     "delete_cmd_prefix": "rm(",
     "library": "var_list.r",
     "varRefreshCmd": "cat(var_dic_list()) "
    }
   },
   "types_to_exclude": [
    "module",
    "function",
    "builtin_function_or_method",
    "instance",
    "_Feature"
   ],
   "window_display": false
  }
 },
 "nbformat": 4,
 "nbformat_minor": 1
}
